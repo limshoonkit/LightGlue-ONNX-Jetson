{
 "cells": [
  {
   "cell_type": "markdown",
   "id": "08aafab7",
   "metadata": {},
   "source": [
    "## Run the inference with the PyTorch model"
   ]
  },
  {
   "cell_type": "code",
   "execution_count": null,
   "id": "3778db24",
   "metadata": {},
   "outputs": [],
   "source": [
    "import torch\n",
    "import superpoint_pytorch\n",
    "\n",
    "detection_thresh = 0.005\n",
    "nms_radius = 5\n",
    "max_keypoints = 256\n",
    "\n",
    "sp_th = superpoint_pytorch.SuperPoint(detection_threshold=detection_thresh, nms_radius=nms_radius, max_num_keypoints=max_keypoints).eval()\n",
    "print('Config:', sp_th.conf)\n",
    "\n",
    "# Load state dict (map_location=\"cpu\" if no GPU)\n",
    "ckpt = torch.load(\"/home/nvidia/third_party/LightGlue-ONNX-Jetson/weights/superpoint_v6_from_tf.pth\", map_location=\"cuda\" if torch.cuda.is_available() else \"cpu\")\n",
    "\n",
    "# Some checkpoints may be wrapped in {\"state_dict\": ...}\n",
    "if \"state_dict\" in ckpt:\n",
    "    ckpt = ckpt[\"state_dict\"]\n",
    "\n",
    "# Load weights\n",
    "sp_th.load_state_dict(ckpt, strict=True)\n",
    "sp_th.eval().cuda()\n",
    "# sp_th = torch.compile(sp_th, mode=\"reduce-overhead\")  # \"max-autotune\" , \"reduce-overhead\""
   ]
  },
  {
   "cell_type": "code",
   "execution_count": null,
   "id": "12c06666",
   "metadata": {},
   "outputs": [],
   "source": [
    "import torch, cv2, numpy as np\n",
    "import matplotlib.pyplot as plt\n",
    "\n",
    "# Load image (grayscale)\n",
    "image_path = '/home/nvidia/third_party/LightGlue-ONNX-Jetson/assets/debug1.png'\n",
    "\n",
    "img = cv2.imread(image_path, cv2.IMREAD_GRAYSCALE)  # [H,W]\n",
    "img = img.astype(np.float32) / 255.0\n",
    "\n",
    "# Pad image so that H,W are divisible by 8 (SuperPoint stride requirement)\n",
    "H, W = img.shape\n",
    "pad_h = int(np.ceil(H / 8) * 8 - H)\n",
    "pad_w = int(np.ceil(W / 8) * 8 - W)\n",
    "img = np.pad(img, ((0, pad_h), (0, pad_w)))\n",
    "\n",
    "# Convert to tensor [B,1,H,W] and send to device\n",
    "device = torch.device(\"cuda\" if torch.cuda.is_available() else \"cpu\")\n",
    "tensor = torch.from_numpy(img)[None, None].to(device)  # shape [1,1,H,W]"
   ]
  },
  {
   "cell_type": "code",
   "execution_count": null,
   "id": "fd78be4f",
   "metadata": {},
   "outputs": [],
   "source": [
    "with torch.no_grad():\n",
    "    pred = sp_th({\"image\": tensor})"
   ]
  },
  {
   "cell_type": "code",
   "execution_count": null,
   "id": "a9744220",
   "metadata": {},
   "outputs": [],
   "source": [
    "kpts = pred[\"keypoints\"][0].cpu().numpy()       # (N,2)\n",
    "scores = pred[\"keypoint_scores\"][0].cpu().numpy()\n",
    "\n",
    "plt.figure(figsize=(10,8))\n",
    "plt.imshow(img, cmap='gray')\n",
    "plt.scatter(kpts[:,0], kpts[:,1], s=4, c='lime')\n",
    "plt.title(f\"SuperPoint detected {len(kpts)} keypoints\")\n",
    "plt.show()"
   ]
  }
 ],
 "metadata": {
  "kernelspec": {
   "display_name": "lightglue-onnx-py3.10 (3.10.12)",
   "language": "python",
   "name": "python3"
  },
  "language_info": {
   "codemirror_mode": {
    "name": "ipython",
    "version": 3
   },
   "file_extension": ".py",
   "mimetype": "text/x-python",
   "name": "python",
   "nbconvert_exporter": "python",
   "pygments_lexer": "ipython3",
   "version": "3.10.12"
  }
 },
 "nbformat": 4,
 "nbformat_minor": 5
}
